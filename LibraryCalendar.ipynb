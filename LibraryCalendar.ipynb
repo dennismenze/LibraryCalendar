{
 "cells": [
  {
   "cell_type": "code",
   "execution_count": null,
   "metadata": {},
   "outputs": [],
   "source": [
    "import requests\n",
    "import re\n",
    "import pandas as pd\n",
    "from io import StringIO\n",
    "import bs4\n",
    "import icalendar\n",
    "from datetime import datetime, timedelta"
   ]
  },
  {
   "cell_type": "markdown",
   "metadata": {},
   "source": [
    "# Scrape data from libraries"
   ]
  },
  {
   "cell_type": "markdown",
   "metadata": {},
   "source": [
    "## Köln (Cologne)"
   ]
  },
  {
   "cell_type": "code",
   "execution_count": null,
   "metadata": {},
   "outputs": [],
   "source": [
    "users = {\"Cologne account 1\": {\"Nr\":\"aXXX\", \"PIN\": \"XXXX\"}}"
   ]
  },
  {
   "cell_type": "code",
   "execution_count": null,
   "metadata": {},
   "outputs": [],
   "source": [
    "df_koeln = pd.DataFrame()\n",
    "for selectedUser in users:\n",
    "    print(selectedUser)\n",
    "    s = requests.Session() \n",
    "    r1 = s.get(\"https://katalog.stbib-koeln.de/alswww2.dll/APS_ZONES?fn=MyZone&Style=Portal3&SubStyle=&Lang=GER&ResponseEncoding=utf-8\")\n",
    "    cookie = r1.cookies.get_dict()\n",
    "    pattern = '<META NAME=\"ZonesObjName\" +CONTENT=\"(.*)\">'\n",
    "    token = re.findall(pattern, r1.text)\n",
    "    objname = token[0]\n",
    "    payload = {'Method': \"CheckID\", 'SHA1': \"\", 'ZonesLogin': '1', 'Interlock': objname, \"BrowseAsHloc\": \"\", \"Style\": \"Portal3\", \"SubStyle\": \"\", \"Lang\": \"GER\", \"ResponseEncoding\":\"utf-8\", \"BRWR\": users[selectedUser][\"Nr\"], \"PIN\":users[selectedUser][\"PIN\"]}\n",
    "    r2 = s.post(\"https://katalog.stbib-koeln.de/alswww2.dll/\" + objname, cookies=cookie, data=payload)\n",
    "    token = re.findall(pattern, r2.text)\n",
    "    objname = token[0]\n",
    "    cookie = r2.cookies.get_dict()\n",
    "    cntMedia = int(re.findall('<td class=\"AccountSummaryCounterValueCellStripe\">(.*?)</td>', r2.text)[0])\n",
    "    i = 0\n",
    "    while cntMedia > 0:\n",
    "        cntMedia -= 10\n",
    "        r3 = s.get(f\"https://katalog.stbib-koeln.de/alswww2.dll/{objname}?Style=Portal3&SubStyle=&Lang=GER&ResponseEncoding=utf-8\" + (\"?Method=ShowLoans\" if i == 0 else \"&Method=PageDown&PageSize=10\") , cookies=cookie)\n",
    "        token = re.findall(pattern, r3.text)\n",
    "        objname = token[0]\n",
    "        cookie = r3.cookies.get_dict()\n",
    "        tbl = re.findall('<table id=\"BrowseList\".*?>.*<\\/table>.*SearchResultsTrailer', r3.text, re.MULTILINE | re.DOTALL)\n",
    "        soup = bs4.BeautifulSoup(tbl[0], 'lxml')\n",
    "        results = soup.find(attrs = {'id': 'BrowseList'})    \n",
    "        for row in results.find_all('tr', recursive=False):\n",
    "            df_row = []\n",
    "            for col in row.find_all('td', recursive=False):\n",
    "                table = col.find_all('table')\n",
    "                if table:\n",
    "                    df_row = pd.read_html(StringIO(str(col)))[0].transpose()\n",
    "                    df_row.columns = df_row.iloc[0]\n",
    "                    df_row = df_row.iloc[1:,:]\n",
    "                    df_row[\"Konto\"] = selectedUser\n",
    "            if df_koeln.size == 0:\n",
    "                df_koeln = df_row\n",
    "            else:\n",
    "                df_koeln = pd.concat([df_koeln, df_row])\n",
    "        i += 1\n",
    "\n",
    "df_koeln.rename({\"Publikationsform\": \"Medientyp\"}, axis=1, inplace=True)\n",
    "df_koeln[\"Anz.Verl.\"].fillna(0, inplace=True)\n",
    "df_koeln.dropna(axis=1, inplace=True)\n",
    "df_koeln[\"Ausleih- Datum\"] = pd.to_datetime(df_koeln[\"Ausleih- Datum\"], format=\"%d/%m/%Y\")\n",
    "df_koeln[\"Fälligkeitsdatum\"] = pd.to_datetime(df_koeln[\"Fälligkeits datum\"].str.split(\" \").apply(lambda x: x[0]), format=\"%d/%m/%Y\")\n",
    "df_koeln[\"Verlängerbar\"] = ~df_koeln[\"Fälligkeits datum\"].str.contains(\"\\?\") | df_koeln[\"Anz.Verl.\"] > 0\n",
    "df_koeln[\"Bibliothek\"] = \"Köln\"\n",
    "df_koeln"
   ]
  },
  {
   "cell_type": "markdown",
   "metadata": {},
   "source": [
    "## Kreuztal"
   ]
  },
  {
   "cell_type": "code",
   "execution_count": null,
   "metadata": {},
   "outputs": [],
   "source": [
    "users = {\"Kreuztal account 1\": {\"Nr\":\"XXX\", \"PIN\": \"XX.XX.XXXX\"}}"
   ]
  },
  {
   "cell_type": "code",
   "execution_count": null,
   "metadata": {},
   "outputs": [],
   "source": [
    "df_kreuztal = pd.DataFrame()\n",
    "for selectedUser in users:\n",
    "    print(selectedUser)\n",
    "    s = requests.Session() \n",
    "    payload = {\"koha_login_context\":\"opac\", \"userid\": users[selectedUser][\"Nr\"], \"password\":users[selectedUser][\"PIN\"]}\n",
    "    r2 = s.post(\"https://sb-kreuztal.lmscloud.net/cgi-bin/koha/opac-user.pl\", data=payload)\n",
    "    tbl = re.findall('<table id=\"checkoutst\".*<\\/table>', r2.text, re.MULTILINE | re.DOTALL)\n",
    "    if len(tbl) == 0:\n",
    "        continue\n",
    "    df_row = pd.read_html(tbl[0])[0]\n",
    "    df_row[\"Konto\"] = selectedUser\n",
    "    if df_kreuztal.size == 0:\n",
    "        df_kreuztal = df_row\n",
    "    else:\n",
    "        df_kreuztal = pd.concat([df_kreuztal, df_row])\n",
    "\n",
    "df_kreuztal[\"Anz.Verl.\"] = 2-df_kreuztal[\"Verlängern\"].str.extract(\".*(\\d) von.*\").fillna(0).astype(int)\n",
    "df_kreuztal[\"Verfasser\"].fillna(\"Kein Autor\", inplace=True)\n",
    "df_kreuztal[\"Fälligkeitsdatum\"] = pd.to_datetime(df_kreuztal[\"Fällig\"].str.replace(\"Fälligkeitsdatum:  \", \"\"), format=\"%d.%m.%Y\")\n",
    "df_kreuztal[\"Verlängerbar\"] = ~df_kreuztal[\"Verlängern\"].str.contains(\"Nicht verlängerbar\")\n",
    "df_kreuztal[\"Bibliothek\"] = \"Kreuztal\"\n",
    "df_kreuztal"
   ]
  },
  {
   "cell_type": "markdown",
   "metadata": {},
   "source": [
    "# Create calendar"
   ]
  },
  {
   "cell_type": "code",
   "execution_count": null,
   "metadata": {},
   "outputs": [],
   "source": [
    "cols = [\"Fälligkeitsdatum\", \"Bibliothek\", \"Konto\", \"Verlängerbar\", \"Anz.Verl.\", \"Medientyp\", \"Verfasser\", \"Titel\"]\n",
    "df = pd.concat([df_koeln[cols], df_kreuztal[cols]]).reset_index(drop=True)\n",
    "\n",
    "# Calculate maximum possible date from due date, extension count and media type\n",
    "df[\"Max. Datum\"] = df.apply(lambda x: x[\"Fälligkeitsdatum\"] + timedelta((2-int(x[\"Anz.Verl.\"])) * 7 * (2 if re.match(\"DVD|Games|Video-Spiel\", x[\"Medientyp\"]) else 4)), axis=1)"
   ]
  },
  {
   "cell_type": "code",
   "execution_count": null,
   "metadata": {},
   "outputs": [],
   "source": [
    "cal = icalendar.Calendar()\n",
    "entriesPerEvent = 25\n",
    "for idx, r in df.groupby(\"Fälligkeitsdatum\"):\n",
    "    for library, rws in r.groupby(\"Bibliothek\"):\n",
    "        i = 0\n",
    "        rws.sort_values([\"Konto\", \"Verlängerbar\", \"Max. Datum\"], inplace=True)\n",
    "        while True:\n",
    "            rows = rws[i:i+entriesPerEvent].reset_index(drop=True).reindex()\n",
    "            event = icalendar.Event()\n",
    "            event.add(\"summary\", library + \" (\" + str(rows[\"Verlängerbar\"].sum()) + \"/\" + str(rows[\"Verlängerbar\"].count()) + \" Medien verlängerbar)\")\n",
    "            event.add('dtstart', idx.date())\n",
    "            event.add('dtstamp', datetime.now())\n",
    "            alarm = icalendar.Alarm()\n",
    "            alarm.add(\"action\", \"DISPLAY\")\n",
    "            alarm.add(\"trigger\", timedelta(days=-1))\n",
    "            alarm.add(\"description\", \"Medien fällig\")\n",
    "            event.add_component(alarm)\n",
    "            if not rows[\"Verlängerbar\"].all():\n",
    "                event.add(\"priority\", \"1\") \n",
    "            event.add(\"description\", \"Stand: \" + datetime.now().strftime(\"%d.%m.%Y %H:%M Uhr\") + \"\\n\" + \"\\n\".join(rows.apply(lambda row: (row[\"Konto\"] + \":\\n\" if row.name == 0 or row[\"Konto\"] != rows.loc[row.name-1, \"Konto\"] else \"\") + (\"x \" if not row[\"Verlängerbar\"] else \"- \") + row[\"Verfasser\"][:25] + (row[\"Verfasser\"][25:] and \"..\") + \" - \" + row[\"Titel\"][:25] + (row[\"Titel\"][25:] and \"..\") + (\" (\" + str(2-int(row[\"Anz.Verl.\"])) + \"x verlängerbar bis \" + row[\"Max. Datum\"].strftime(\"%d.%m.%Y\") + \")\" if row[\"Verlängerbar\"] else \" (NICHT verlängerbar)\"), axis=1)))\n",
    "            cal.add_component(event)\n",
    "            if len(rows) < entriesPerEvent:\n",
    "                break\n",
    "            i += entriesPerEvent\n",
    "cal.to_ical()"
   ]
  }
 ],
 "metadata": {
  "kernelspec": {
   "display_name": "base",
   "language": "python",
   "name": "python3"
  },
  "language_info": {
   "codemirror_mode": {
    "name": "ipython",
    "version": 3
   },
   "file_extension": ".py",
   "mimetype": "text/x-python",
   "name": "python",
   "nbconvert_exporter": "python",
   "pygments_lexer": "ipython3",
   "version": "3.9.7"
  }
 },
 "nbformat": 4,
 "nbformat_minor": 2
}
